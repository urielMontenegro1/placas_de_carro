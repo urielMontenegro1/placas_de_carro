{
 "cells": [
  {
   "cell_type": "code",
   "execution_count": 1,
   "metadata": {},
   "outputs": [],
   "source": [
    "import cv2\n",
    "import pytesseract"
   ]
  },
  {
   "cell_type": "code",
   "execution_count": 38,
   "metadata": {},
   "outputs": [],
   "source": [
    "pytesseract.pytesseract.tesseract_cmd=r'C:/Program Files/Tesseract-OCR/tesseract.exe' ##Importante"
   ]
  },
  {
   "cell_type": "code",
   "execution_count": 46,
   "metadata": {},
   "outputs": [
    {
     "name": "stdout",
     "output_type": "stream",
     "text": [
      "area:  27451.0\n",
      "text=: AAA-000-A\n",
      "\n",
      "area:  27462.0\n",
      "text=: AAA-000-A\n",
      "\n"
     ]
    }
   ],
   "source": [
    "from matplotlib import image\n",
    "\n",
    "\n",
    "placa=[]\n",
    "img=cv2.imread('foto2.jpg')\n",
    "\n",
    "gray=cv2.cvtColor(img,cv2.COLOR_BGR2GRAY)\n",
    "gray=cv2.blur(gray,(3,3))\n",
    "\n",
    "canny=cv2.Canny(gray,150,200)\n",
    "#canny=cv2.dilate(canny,None,iterations=5)\n",
    "\n",
    "cnts,_=cv2.findContours(canny,cv2.RETR_LIST,cv2.CHAIN_APPROX_SIMPLE)\n",
    "\n",
    "#cv2.drawContours(img,cnts,-1,(0,255,0),2)\n",
    "\n",
    "for c in cnts:\n",
    "    area=cv2.contourArea(c)\n",
    "    x,y,w,h=cv2.boundingRect(c)\n",
    "    epsilon=0.010*cv2.arcLength(c,True)\n",
    "    aproxx=cv2.approxPolyDP(c,epsilon,True)\n",
    "\n",
    "    if len(aproxx)==4 and area>10000:\n",
    "        print(\"area: \", area)\n",
    "        aspec_ratio=float(w)/h\n",
    "        if aspec_ratio>2:\n",
    "            placa=gray[y:y+h,x:x+w]\n",
    "            text = pytesseract.image_to_string(placa,config='--psm 11')\n",
    "            print('text=:', text)\n",
    "            cv2.rectangle(img,(x,y),(x+w,y+h),(0,255,0),3)\n",
    "            cv2.putText(img,text,(x-20,y-10),2,2.2,(0,255,0),2)\n",
    "            cv2.imshow(\"placa\", placa)\n",
    "            #cv2.moveWindow(\"Placa\",45,10)\n",
    "            #cv2.drawContours(img,[c],-1,(0,255,0),2)\n",
    "\n",
    "cv2.imshow(\"imagen de muestra\", img)\n",
    "#cv2.imshow(\"canny\", canny)\n",
    "#cv2.moveWindow(\"Image\",45,10)\n",
    "cv2.waitKey(0)\n",
    "cv2.destroyAllWindows()"
   ]
  }
 ],
 "metadata": {
  "kernelspec": {
   "display_name": "Python 3.9.9 64-bit",
   "language": "python",
   "name": "python3"
  },
  "language_info": {
   "codemirror_mode": {
    "name": "ipython",
    "version": 3
   },
   "file_extension": ".py",
   "mimetype": "text/x-python",
   "name": "python",
   "nbconvert_exporter": "python",
   "pygments_lexer": "ipython3",
   "version": "3.9.9"
  },
  "orig_nbformat": 4,
  "vscode": {
   "interpreter": {
    "hash": "11938c6bc6919ae2720b4d5011047913343b08a43b18698fd82dedb0d4417594"
   }
  }
 },
 "nbformat": 4,
 "nbformat_minor": 2
}
